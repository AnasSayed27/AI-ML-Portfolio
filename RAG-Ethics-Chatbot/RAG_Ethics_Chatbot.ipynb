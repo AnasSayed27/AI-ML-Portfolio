{
  "nbformat": 4,
  "nbformat_minor": 0,
  "metadata": {
    "colab": {
      "provenance": []
    },
    "kernelspec": {
      "name": "python3",
      "display_name": "Python 3"
    },
    "language_info": {
      "name": "python"
    }
  },
  "cells": [
    {
      "cell_type": "code",
      "execution_count": 21,
      "metadata": {
        "id": "lpAzyPi5m1yA",
        "colab": {
          "base_uri": "https://localhost:8080/"
        },
        "outputId": "880faa0b-d7e1-43ca-a8aa-d35f2b85eabf"
      },
      "outputs": [
        {
          "output_type": "stream",
          "name": "stdout",
          "text": [
            "Requirement already satisfied: transformers in /usr/local/lib/python3.12/dist-packages (4.57.1)\n",
            "Requirement already satisfied: sentence-transformers in /usr/local/lib/python3.12/dist-packages (5.1.1)\n",
            "Requirement already satisfied: datasets in /usr/local/lib/python3.12/dist-packages (4.0.0)\n",
            "Requirement already satisfied: rouge-score in /usr/local/lib/python3.12/dist-packages (0.1.2)\n",
            "Requirement already satisfied: streamlit in /usr/local/lib/python3.12/dist-packages (1.50.0)\n",
            "Requirement already satisfied: evaluate in /usr/local/lib/python3.12/dist-packages (0.4.6)\n",
            "Requirement already satisfied: filelock in /usr/local/lib/python3.12/dist-packages (from transformers) (3.20.0)\n",
            "Requirement already satisfied: huggingface-hub<1.0,>=0.34.0 in /usr/local/lib/python3.12/dist-packages (from transformers) (0.35.3)\n",
            "Requirement already satisfied: numpy>=1.17 in /usr/local/lib/python3.12/dist-packages (from transformers) (2.0.2)\n",
            "Requirement already satisfied: packaging>=20.0 in /usr/local/lib/python3.12/dist-packages (from transformers) (25.0)\n",
            "Requirement already satisfied: pyyaml>=5.1 in /usr/local/lib/python3.12/dist-packages (from transformers) (6.0.3)\n",
            "Requirement already satisfied: regex!=2019.12.17 in /usr/local/lib/python3.12/dist-packages (from transformers) (2024.11.6)\n",
            "Requirement already satisfied: requests in /usr/local/lib/python3.12/dist-packages (from transformers) (2.32.4)\n",
            "Requirement already satisfied: tokenizers<=0.23.0,>=0.22.0 in /usr/local/lib/python3.12/dist-packages (from transformers) (0.22.1)\n",
            "Requirement already satisfied: safetensors>=0.4.3 in /usr/local/lib/python3.12/dist-packages (from transformers) (0.6.2)\n",
            "Requirement already satisfied: tqdm>=4.27 in /usr/local/lib/python3.12/dist-packages (from transformers) (4.67.1)\n",
            "Requirement already satisfied: torch>=1.11.0 in /usr/local/lib/python3.12/dist-packages (from sentence-transformers) (2.8.0+cu126)\n",
            "Requirement already satisfied: scikit-learn in /usr/local/lib/python3.12/dist-packages (from sentence-transformers) (1.6.1)\n",
            "Requirement already satisfied: scipy in /usr/local/lib/python3.12/dist-packages (from sentence-transformers) (1.16.2)\n",
            "Requirement already satisfied: Pillow in /usr/local/lib/python3.12/dist-packages (from sentence-transformers) (11.3.0)\n",
            "Requirement already satisfied: typing_extensions>=4.5.0 in /usr/local/lib/python3.12/dist-packages (from sentence-transformers) (4.15.0)\n",
            "Requirement already satisfied: pyarrow>=15.0.0 in /usr/local/lib/python3.12/dist-packages (from datasets) (18.1.0)\n",
            "Requirement already satisfied: dill<0.3.9,>=0.3.0 in /usr/local/lib/python3.12/dist-packages (from datasets) (0.3.8)\n",
            "Requirement already satisfied: pandas in /usr/local/lib/python3.12/dist-packages (from datasets) (2.2.2)\n",
            "Requirement already satisfied: xxhash in /usr/local/lib/python3.12/dist-packages (from datasets) (3.6.0)\n",
            "Requirement already satisfied: multiprocess<0.70.17 in /usr/local/lib/python3.12/dist-packages (from datasets) (0.70.16)\n",
            "Requirement already satisfied: fsspec<=2025.3.0,>=2023.1.0 in /usr/local/lib/python3.12/dist-packages (from fsspec[http]<=2025.3.0,>=2023.1.0->datasets) (2025.3.0)\n",
            "Requirement already satisfied: absl-py in /usr/local/lib/python3.12/dist-packages (from rouge-score) (1.4.0)\n",
            "Requirement already satisfied: nltk in /usr/local/lib/python3.12/dist-packages (from rouge-score) (3.9.1)\n",
            "Requirement already satisfied: six>=1.14.0 in /usr/local/lib/python3.12/dist-packages (from rouge-score) (1.17.0)\n",
            "Requirement already satisfied: altair!=5.4.0,!=5.4.1,<6,>=4.0 in /usr/local/lib/python3.12/dist-packages (from streamlit) (5.5.0)\n",
            "Requirement already satisfied: blinker<2,>=1.5.0 in /usr/local/lib/python3.12/dist-packages (from streamlit) (1.9.0)\n",
            "Requirement already satisfied: cachetools<7,>=4.0 in /usr/local/lib/python3.12/dist-packages (from streamlit) (5.5.2)\n",
            "Requirement already satisfied: click<9,>=7.0 in /usr/local/lib/python3.12/dist-packages (from streamlit) (8.3.0)\n",
            "Requirement already satisfied: protobuf<7,>=3.20 in /usr/local/lib/python3.12/dist-packages (from streamlit) (5.29.5)\n",
            "Requirement already satisfied: tenacity<10,>=8.1.0 in /usr/local/lib/python3.12/dist-packages (from streamlit) (8.5.0)\n",
            "Requirement already satisfied: toml<2,>=0.10.1 in /usr/local/lib/python3.12/dist-packages (from streamlit) (0.10.2)\n",
            "Requirement already satisfied: watchdog<7,>=2.1.5 in /usr/local/lib/python3.12/dist-packages (from streamlit) (6.0.0)\n",
            "Requirement already satisfied: gitpython!=3.1.19,<4,>=3.0.7 in /usr/local/lib/python3.12/dist-packages (from streamlit) (3.1.45)\n",
            "Requirement already satisfied: pydeck<1,>=0.8.0b4 in /usr/local/lib/python3.12/dist-packages (from streamlit) (0.9.1)\n",
            "Requirement already satisfied: tornado!=6.5.0,<7,>=6.0.3 in /usr/local/lib/python3.12/dist-packages (from streamlit) (6.5.1)\n",
            "Requirement already satisfied: jinja2 in /usr/local/lib/python3.12/dist-packages (from altair!=5.4.0,!=5.4.1,<6,>=4.0->streamlit) (3.1.6)\n",
            "Requirement already satisfied: jsonschema>=3.0 in /usr/local/lib/python3.12/dist-packages (from altair!=5.4.0,!=5.4.1,<6,>=4.0->streamlit) (4.25.1)\n",
            "Requirement already satisfied: narwhals>=1.14.2 in /usr/local/lib/python3.12/dist-packages (from altair!=5.4.0,!=5.4.1,<6,>=4.0->streamlit) (2.8.0)\n",
            "Requirement already satisfied: aiohttp!=4.0.0a0,!=4.0.0a1 in /usr/local/lib/python3.12/dist-packages (from fsspec[http]<=2025.3.0,>=2023.1.0->datasets) (3.13.0)\n",
            "Requirement already satisfied: gitdb<5,>=4.0.1 in /usr/local/lib/python3.12/dist-packages (from gitpython!=3.1.19,<4,>=3.0.7->streamlit) (4.0.12)\n",
            "Requirement already satisfied: hf-xet<2.0.0,>=1.1.3 in /usr/local/lib/python3.12/dist-packages (from huggingface-hub<1.0,>=0.34.0->transformers) (1.1.10)\n",
            "Requirement already satisfied: python-dateutil>=2.8.2 in /usr/local/lib/python3.12/dist-packages (from pandas->datasets) (2.9.0.post0)\n",
            "Requirement already satisfied: pytz>=2020.1 in /usr/local/lib/python3.12/dist-packages (from pandas->datasets) (2025.2)\n",
            "Requirement already satisfied: tzdata>=2022.7 in /usr/local/lib/python3.12/dist-packages (from pandas->datasets) (2025.2)\n",
            "Requirement already satisfied: charset_normalizer<4,>=2 in /usr/local/lib/python3.12/dist-packages (from requests->transformers) (3.4.4)\n",
            "Requirement already satisfied: idna<4,>=2.5 in /usr/local/lib/python3.12/dist-packages (from requests->transformers) (3.11)\n",
            "Requirement already satisfied: urllib3<3,>=1.21.1 in /usr/local/lib/python3.12/dist-packages (from requests->transformers) (2.5.0)\n",
            "Requirement already satisfied: certifi>=2017.4.17 in /usr/local/lib/python3.12/dist-packages (from requests->transformers) (2025.10.5)\n",
            "Requirement already satisfied: setuptools in /usr/local/lib/python3.12/dist-packages (from torch>=1.11.0->sentence-transformers) (75.2.0)\n",
            "Requirement already satisfied: sympy>=1.13.3 in /usr/local/lib/python3.12/dist-packages (from torch>=1.11.0->sentence-transformers) (1.13.3)\n",
            "Requirement already satisfied: networkx in /usr/local/lib/python3.12/dist-packages (from torch>=1.11.0->sentence-transformers) (3.5)\n",
            "Requirement already satisfied: nvidia-cuda-nvrtc-cu12==12.6.77 in /usr/local/lib/python3.12/dist-packages (from torch>=1.11.0->sentence-transformers) (12.6.77)\n",
            "Requirement already satisfied: nvidia-cuda-runtime-cu12==12.6.77 in /usr/local/lib/python3.12/dist-packages (from torch>=1.11.0->sentence-transformers) (12.6.77)\n",
            "Requirement already satisfied: nvidia-cuda-cupti-cu12==12.6.80 in /usr/local/lib/python3.12/dist-packages (from torch>=1.11.0->sentence-transformers) (12.6.80)\n",
            "Requirement already satisfied: nvidia-cudnn-cu12==9.10.2.21 in /usr/local/lib/python3.12/dist-packages (from torch>=1.11.0->sentence-transformers) (9.10.2.21)\n",
            "Requirement already satisfied: nvidia-cublas-cu12==12.6.4.1 in /usr/local/lib/python3.12/dist-packages (from torch>=1.11.0->sentence-transformers) (12.6.4.1)\n",
            "Requirement already satisfied: nvidia-cufft-cu12==11.3.0.4 in /usr/local/lib/python3.12/dist-packages (from torch>=1.11.0->sentence-transformers) (11.3.0.4)\n",
            "Requirement already satisfied: nvidia-curand-cu12==10.3.7.77 in /usr/local/lib/python3.12/dist-packages (from torch>=1.11.0->sentence-transformers) (10.3.7.77)\n",
            "Requirement already satisfied: nvidia-cusolver-cu12==11.7.1.2 in /usr/local/lib/python3.12/dist-packages (from torch>=1.11.0->sentence-transformers) (11.7.1.2)\n",
            "Requirement already satisfied: nvidia-cusparse-cu12==12.5.4.2 in /usr/local/lib/python3.12/dist-packages (from torch>=1.11.0->sentence-transformers) (12.5.4.2)\n",
            "Requirement already satisfied: nvidia-cusparselt-cu12==0.7.1 in /usr/local/lib/python3.12/dist-packages (from torch>=1.11.0->sentence-transformers) (0.7.1)\n",
            "Requirement already satisfied: nvidia-nccl-cu12==2.27.3 in /usr/local/lib/python3.12/dist-packages (from torch>=1.11.0->sentence-transformers) (2.27.3)\n",
            "Requirement already satisfied: nvidia-nvtx-cu12==12.6.77 in /usr/local/lib/python3.12/dist-packages (from torch>=1.11.0->sentence-transformers) (12.6.77)\n",
            "Requirement already satisfied: nvidia-nvjitlink-cu12==12.6.85 in /usr/local/lib/python3.12/dist-packages (from torch>=1.11.0->sentence-transformers) (12.6.85)\n",
            "Requirement already satisfied: nvidia-cufile-cu12==1.11.1.6 in /usr/local/lib/python3.12/dist-packages (from torch>=1.11.0->sentence-transformers) (1.11.1.6)\n",
            "Requirement already satisfied: triton==3.4.0 in /usr/local/lib/python3.12/dist-packages (from torch>=1.11.0->sentence-transformers) (3.4.0)\n",
            "Requirement already satisfied: joblib in /usr/local/lib/python3.12/dist-packages (from nltk->rouge-score) (1.5.2)\n",
            "Requirement already satisfied: threadpoolctl>=3.1.0 in /usr/local/lib/python3.12/dist-packages (from scikit-learn->sentence-transformers) (3.6.0)\n",
            "Requirement already satisfied: aiohappyeyeballs>=2.5.0 in /usr/local/lib/python3.12/dist-packages (from aiohttp!=4.0.0a0,!=4.0.0a1->fsspec[http]<=2025.3.0,>=2023.1.0->datasets) (2.6.1)\n",
            "Requirement already satisfied: aiosignal>=1.4.0 in /usr/local/lib/python3.12/dist-packages (from aiohttp!=4.0.0a0,!=4.0.0a1->fsspec[http]<=2025.3.0,>=2023.1.0->datasets) (1.4.0)\n",
            "Requirement already satisfied: attrs>=17.3.0 in /usr/local/lib/python3.12/dist-packages (from aiohttp!=4.0.0a0,!=4.0.0a1->fsspec[http]<=2025.3.0,>=2023.1.0->datasets) (25.4.0)\n",
            "Requirement already satisfied: frozenlist>=1.1.1 in /usr/local/lib/python3.12/dist-packages (from aiohttp!=4.0.0a0,!=4.0.0a1->fsspec[http]<=2025.3.0,>=2023.1.0->datasets) (1.8.0)\n",
            "Requirement already satisfied: multidict<7.0,>=4.5 in /usr/local/lib/python3.12/dist-packages (from aiohttp!=4.0.0a0,!=4.0.0a1->fsspec[http]<=2025.3.0,>=2023.1.0->datasets) (6.7.0)\n",
            "Requirement already satisfied: propcache>=0.2.0 in /usr/local/lib/python3.12/dist-packages (from aiohttp!=4.0.0a0,!=4.0.0a1->fsspec[http]<=2025.3.0,>=2023.1.0->datasets) (0.4.1)\n",
            "Requirement already satisfied: yarl<2.0,>=1.17.0 in /usr/local/lib/python3.12/dist-packages (from aiohttp!=4.0.0a0,!=4.0.0a1->fsspec[http]<=2025.3.0,>=2023.1.0->datasets) (1.22.0)\n",
            "Requirement already satisfied: smmap<6,>=3.0.1 in /usr/local/lib/python3.12/dist-packages (from gitdb<5,>=4.0.1->gitpython!=3.1.19,<4,>=3.0.7->streamlit) (5.0.2)\n",
            "Requirement already satisfied: MarkupSafe>=2.0 in /usr/local/lib/python3.12/dist-packages (from jinja2->altair!=5.4.0,!=5.4.1,<6,>=4.0->streamlit) (3.0.3)\n",
            "Requirement already satisfied: jsonschema-specifications>=2023.03.6 in /usr/local/lib/python3.12/dist-packages (from jsonschema>=3.0->altair!=5.4.0,!=5.4.1,<6,>=4.0->streamlit) (2025.9.1)\n",
            "Requirement already satisfied: referencing>=0.28.4 in /usr/local/lib/python3.12/dist-packages (from jsonschema>=3.0->altair!=5.4.0,!=5.4.1,<6,>=4.0->streamlit) (0.37.0)\n",
            "Requirement already satisfied: rpds-py>=0.7.1 in /usr/local/lib/python3.12/dist-packages (from jsonschema>=3.0->altair!=5.4.0,!=5.4.1,<6,>=4.0->streamlit) (0.27.1)\n",
            "Requirement already satisfied: mpmath<1.4,>=1.1.0 in /usr/local/lib/python3.12/dist-packages (from sympy>=1.13.3->torch>=1.11.0->sentence-transformers) (1.3.0)\n"
          ]
        }
      ],
      "source": [
        "!pip install transformers sentence-transformers datasets rouge-score streamlit evaluate"
      ]
    },
    {
      "cell_type": "code",
      "source": [
        "from sentence_transformers import SentenceTransformer\n",
        "from transformers import pipeline\n",
        "import evaluate\n",
        "import numpy as np\n",
        "import streamlit as st"
      ],
      "metadata": {
        "id": "LARvN_wum-hv"
      },
      "execution_count": 22,
      "outputs": []
    },
    {
      "cell_type": "code",
      "source": [
        "dataset= []\n",
        "\n",
        "with open('/content/AI_ethics_Dataset.txt', 'r') as file:\n",
        "  dataset= file.readlines()\n",
        "  print(f'Loaded {len(dataset)} lines.')"
      ],
      "metadata": {
        "id": "-nHybqJPnD4X",
        "colab": {
          "base_uri": "https://localhost:8080/"
        },
        "outputId": "bcaa9909-e9a8-43e9-b181-7696dc5827db"
      },
      "execution_count": 23,
      "outputs": [
        {
          "output_type": "stream",
          "name": "stdout",
          "text": [
            "Loaded 50 lines.\n"
          ]
        }
      ]
    },
    {
      "cell_type": "code",
      "source": [
        "Embedding_model = 'all-MiniLM-L6-v2'\n",
        "embedder = SentenceTransformer(Embedding_model)\n",
        "\n",
        "Vector_DB= []\n",
        "for chunk in dataset:\n",
        "  embedded = embedder.encode([chunk])[0]\n",
        "  Vector_DB.append([chunk, embedded]) # Store both chunk and embedding\n",
        "  print(f'Embedded lines as (shape: {embedded.shape})')"
      ],
      "metadata": {
        "id": "ep2_QQXTnyT_",
        "colab": {
          "base_uri": "https://localhost:8080/"
        },
        "outputId": "1947d0ad-2738-41ca-f192-257bbd3f8f21"
      },
      "execution_count": 24,
      "outputs": [
        {
          "output_type": "stream",
          "name": "stdout",
          "text": [
            "Embedded lines as (shape: (384,))\n",
            "Embedded lines as (shape: (384,))\n",
            "Embedded lines as (shape: (384,))\n",
            "Embedded lines as (shape: (384,))\n",
            "Embedded lines as (shape: (384,))\n",
            "Embedded lines as (shape: (384,))\n",
            "Embedded lines as (shape: (384,))\n",
            "Embedded lines as (shape: (384,))\n",
            "Embedded lines as (shape: (384,))\n",
            "Embedded lines as (shape: (384,))\n",
            "Embedded lines as (shape: (384,))\n",
            "Embedded lines as (shape: (384,))\n",
            "Embedded lines as (shape: (384,))\n",
            "Embedded lines as (shape: (384,))\n",
            "Embedded lines as (shape: (384,))\n",
            "Embedded lines as (shape: (384,))\n",
            "Embedded lines as (shape: (384,))\n",
            "Embedded lines as (shape: (384,))\n",
            "Embedded lines as (shape: (384,))\n",
            "Embedded lines as (shape: (384,))\n",
            "Embedded lines as (shape: (384,))\n",
            "Embedded lines as (shape: (384,))\n",
            "Embedded lines as (shape: (384,))\n",
            "Embedded lines as (shape: (384,))\n",
            "Embedded lines as (shape: (384,))\n",
            "Embedded lines as (shape: (384,))\n",
            "Embedded lines as (shape: (384,))\n",
            "Embedded lines as (shape: (384,))\n",
            "Embedded lines as (shape: (384,))\n",
            "Embedded lines as (shape: (384,))\n",
            "Embedded lines as (shape: (384,))\n",
            "Embedded lines as (shape: (384,))\n",
            "Embedded lines as (shape: (384,))\n",
            "Embedded lines as (shape: (384,))\n",
            "Embedded lines as (shape: (384,))\n",
            "Embedded lines as (shape: (384,))\n",
            "Embedded lines as (shape: (384,))\n",
            "Embedded lines as (shape: (384,))\n",
            "Embedded lines as (shape: (384,))\n",
            "Embedded lines as (shape: (384,))\n",
            "Embedded lines as (shape: (384,))\n",
            "Embedded lines as (shape: (384,))\n",
            "Embedded lines as (shape: (384,))\n",
            "Embedded lines as (shape: (384,))\n",
            "Embedded lines as (shape: (384,))\n",
            "Embedded lines as (shape: (384,))\n",
            "Embedded lines as (shape: (384,))\n",
            "Embedded lines as (shape: (384,))\n",
            "Embedded lines as (shape: (384,))\n",
            "Embedded lines as (shape: (384,))\n"
          ]
        }
      ]
    },
    {
      "cell_type": "code",
      "source": [
        "def cosine_similarity(a, b):\n",
        "  dot_prod= np.dot(a, b)\n",
        "  norm_a= np.linalg.norm(a)\n",
        "  norm_b= np.linalg.norm(b)\n",
        "  return dot_prod / norm_a * norm_b"
      ],
      "metadata": {
        "id": "jdRGhV5zowMx"
      },
      "execution_count": 25,
      "outputs": []
    },
    {
      "cell_type": "code",
      "source": [
        "def retrieve(query, top_n= 3):\n",
        "  query_embedding= embedder.encode([query])[0]\n",
        "  similarities= []\n",
        "  for chunk, embedding in Vector_DB:\n",
        "    sim= cosine_similarity(query_embedding, embedding)\n",
        "    similarities.append([chunk, sim])\n",
        "    similarities.sort(key= lambda x: x[1], reverse= True)\n",
        "    return similarities[:top_n]"
      ],
      "metadata": {
        "id": "-kXg74CypQbI"
      },
      "execution_count": 26,
      "outputs": []
    },
    {
      "cell_type": "code",
      "source": [
        "Generation_model= 'gpt2'\n",
        "generator= pipeline('text-generation', model= Generation_model)\n",
        "\n",
        "def generate_ans(query, retrieved_knowledge):\n",
        "  context= '\\n'.join(f'- {chunk}' for chunk, _ in retrieved_knowledge)\n",
        "  prompt= f'''You are a helpful AI ethics expert.\n",
        "  Use ONLY the following context to answer the question. Do NOT use any external knowledge. Be concise and accurate.\n",
        "\n",
        "  context: {context}\n",
        "  Question: {query}\n",
        "  Answer:'''\n",
        "\n",
        "  response= generator(prompt, max_new_tokens= 50, num_return_sequences= 1, do_sample= True, temperature= 0.7)[0]['generated_text']\n",
        "  answer= response.split('Answer:')[-1].strip()\n",
        "  return answer"
      ],
      "metadata": {
        "id": "UyjjBizMqySF",
        "colab": {
          "base_uri": "https://localhost:8080/"
        },
        "outputId": "324bc62b-9f31-4b96-c206-a4b184917f31"
      },
      "execution_count": 27,
      "outputs": [
        {
          "output_type": "stream",
          "name": "stderr",
          "text": [
            "Device set to use cpu\n"
          ]
        }
      ]
    },
    {
      "cell_type": "code",
      "source": [
        "input_query= input('Ask a quetion about AI ethics: ')\n",
        "retrieved= retrieve(input_query)\n",
        "print('Retrieved Knowledge: ')\n",
        "for chunk, sim in retrieved:\n",
        "  print(f'- (Similarity: {sim:.2f}) {chunk}')\n",
        "\n",
        "answer= generate_ans(input_query, retrieved)\n",
        "print('Generated answer: ', answer)"
      ],
      "metadata": {
        "id": "ArwQGR4ksaAE",
        "colab": {
          "base_uri": "https://localhost:8080/"
        },
        "outputId": "a71e38ae-cddd-4d6b-f37f-2efe7632d74e"
      },
      "execution_count": 28,
      "outputs": [
        {
          "name": "stdout",
          "output_type": "stream",
          "text": [
            "Ask a quetion about AI ethics: what is ai ethics\n"
          ]
        },
        {
          "output_type": "stream",
          "name": "stderr",
          "text": [
            "Setting `pad_token_id` to `eos_token_id`:50256 for open-end generation.\n"
          ]
        },
        {
          "output_type": "stream",
          "name": "stdout",
          "text": [
            "Retrieved Knowledge: \n",
            "- (Similarity: 0.91) AI ethics is the study of moral principles guiding the design, use, and impact of artificial intelligence.\n",
            "\n",
            "Generated answer:  \"Ai ethics is a survey of human behavior, including ethical principles (e.g., ethical rules of behavior) that are applied in practice to the behavior of the human social and economic system. This is a survey of human behavior with respect\n"
          ]
        }
      ]
    },
    {
      "cell_type": "code",
      "source": [
        "rouge_metric= evaluate.load('rouge')\n",
        "input_set= [\n",
        "  (\"What is AI ethics?\", \"AI ethics is the study of moral principles guiding the design, use, and impact of artificial intelligence.\"),\n",
        "  (\"What does fairness ensure in AI?\", \"Fairness ensures AI systems do not discriminate against individuals or groups.\"),\n",
        "  (\"What causes algorithmic bias?\", \"Algorithmic bias occurs when AI produces unfair outcomes due to skewed training data or flawed design.\"),\n",
        "  (\"How can bias enter AI systems?\", \"Bias can enter through biased datasets, human labeling errors, or unbalanced model training.\"),\n",
        "  (\"What is transparency in AI?\", \"Transparency means making AI decision processes understandable to humans.\"),\n",
        "  (\"Why is explainability important?\", \"Explainability helps users trust AI by showing how decisions are made.\"),\n",
        "  (\"What does accountability ensure?\", \"Accountability ensures humans remain responsible for AI outcomes, not the machines.\"),\n",
        "  (\"What is data privacy?\", \"Data privacy means protecting personal information used in AI training and deployment.\"),\n",
        "  (\"What does GDPR require?\", \"GDPR requires AI systems to handle personal data lawfully, fairly, and transparently.\"),\n",
        "  (\"What is informed consent?\", \"Informed consent means users agree to how their data is collected and used.\")\n",
        "]\n",
        "scores= []\n",
        "for q, ref in input_set:\n",
        "  ret= retrieve(q)\n",
        "  ans= generate_ans(q, ret)\n",
        "  score= rouge_metric.compute(predictions= [ans], references= [ref])['rougeL']\n",
        "  scores.append(score)\n",
        "print(f'Avg score is {np.mean(scores):.2f}.')"
      ],
      "metadata": {
        "id": "G1QBSOM4tqYE",
        "colab": {
          "base_uri": "https://localhost:8080/"
        },
        "outputId": "29b6edd7-74f0-4546-d55c-60248dde5cf6"
      },
      "execution_count": 29,
      "outputs": [
        {
          "output_type": "stream",
          "name": "stderr",
          "text": [
            "Setting `pad_token_id` to `eos_token_id`:50256 for open-end generation.\n",
            "Setting `pad_token_id` to `eos_token_id`:50256 for open-end generation.\n",
            "Setting `pad_token_id` to `eos_token_id`:50256 for open-end generation.\n",
            "Setting `pad_token_id` to `eos_token_id`:50256 for open-end generation.\n",
            "Setting `pad_token_id` to `eos_token_id`:50256 for open-end generation.\n",
            "Setting `pad_token_id` to `eos_token_id`:50256 for open-end generation.\n",
            "Setting `pad_token_id` to `eos_token_id`:50256 for open-end generation.\n",
            "Setting `pad_token_id` to `eos_token_id`:50256 for open-end generation.\n",
            "Setting `pad_token_id` to `eos_token_id`:50256 for open-end generation.\n",
            "Setting `pad_token_id` to `eos_token_id`:50256 for open-end generation.\n"
          ]
        },
        {
          "output_type": "stream",
          "name": "stdout",
          "text": [
            "Avg score is 0.13.\n"
          ]
        }
      ]
    },
    {
      "cell_type": "code",
      "source": [
        "def streamlit_app():\n",
        "  st.title('RAG Ethics Chatbot')\n",
        "  query= st.text_input('Ask AI ethics question: ')\n",
        "  if query:\n",
        "    ret= retrieve(query)\n",
        "    ans= generate_ans(query, ret)\n",
        "    st.write('Retrieved: ', [c for c, _ in ret])\n",
        "    st.write('Answer: ', ans)\n",
        "\n",
        "if __name__ == '__main__':\n",
        "  streamlit_app()"
      ],
      "metadata": {
        "id": "0ipsWghD0hbZ",
        "colab": {
          "base_uri": "https://localhost:8080/"
        },
        "outputId": "456de71b-1dfd-47c2-a586-fb6f26388d19"
      },
      "execution_count": 30,
      "outputs": [
        {
          "output_type": "stream",
          "name": "stderr",
          "text": [
            "2025-10-21 10:36:05.534 Thread 'MainThread': missing ScriptRunContext! This warning can be ignored when running in bare mode.\n",
            "2025-10-21 10:36:05.536 Thread 'MainThread': missing ScriptRunContext! This warning can be ignored when running in bare mode.\n",
            "2025-10-21 10:36:05.536 Thread 'MainThread': missing ScriptRunContext! This warning can be ignored when running in bare mode.\n",
            "2025-10-21 10:36:05.538 Thread 'MainThread': missing ScriptRunContext! This warning can be ignored when running in bare mode.\n",
            "2025-10-21 10:36:05.538 Thread 'MainThread': missing ScriptRunContext! This warning can be ignored when running in bare mode.\n",
            "2025-10-21 10:36:05.539 Thread 'MainThread': missing ScriptRunContext! This warning can be ignored when running in bare mode.\n",
            "2025-10-21 10:36:05.540 Thread 'MainThread': missing ScriptRunContext! This warning can be ignored when running in bare mode.\n",
            "2025-10-21 10:36:05.541 Thread 'MainThread': missing ScriptRunContext! This warning can be ignored when running in bare mode.\n",
            "2025-10-21 10:36:05.541 Thread 'MainThread': missing ScriptRunContext! This warning can be ignored when running in bare mode.\n",
            "2025-10-21 10:36:05.542 Thread 'MainThread': missing ScriptRunContext! This warning can be ignored when running in bare mode.\n"
          ]
        }
      ]
    },
    {
      "cell_type": "code",
      "source": [],
      "metadata": {
        "id": "-oyTNMJJVVQ6"
      },
      "execution_count": 30,
      "outputs": []
    }
  ]
}